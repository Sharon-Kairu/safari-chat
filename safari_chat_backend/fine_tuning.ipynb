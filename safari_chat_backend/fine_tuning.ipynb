{
 "cells": [
  {
   "cell_type": "code",
   "execution_count": 1,
   "id": "876d8040",
   "metadata": {},
   "outputs": [
    {
     "name": "stdout",
     "output_type": "stream",
     "text": [
      "Requirement already satisfied: datasets in c:\\users\\sharon\\desktop\\sharon\\my coding\\flutter_apps\\safari_chat_project\\safari_chat_backend\\venv\\lib\\site-packages (4.0.0)\n",
      "Requirement already satisfied: filelock in c:\\users\\sharon\\desktop\\sharon\\my coding\\flutter_apps\\safari_chat_project\\safari_chat_backend\\venv\\lib\\site-packages (from datasets) (3.18.0)\n",
      "Requirement already satisfied: numpy>=1.17 in c:\\users\\sharon\\desktop\\sharon\\my coding\\flutter_apps\\safari_chat_project\\safari_chat_backend\\venv\\lib\\site-packages (from datasets) (2.3.2)\n",
      "Requirement already satisfied: pyarrow>=15.0.0 in c:\\users\\sharon\\desktop\\sharon\\my coding\\flutter_apps\\safari_chat_project\\safari_chat_backend\\venv\\lib\\site-packages (from datasets) (21.0.0)\n",
      "Requirement already satisfied: dill<0.3.9,>=0.3.0 in c:\\users\\sharon\\desktop\\sharon\\my coding\\flutter_apps\\safari_chat_project\\safari_chat_backend\\venv\\lib\\site-packages (from datasets) (0.3.8)\n",
      "Requirement already satisfied: pandas in c:\\users\\sharon\\desktop\\sharon\\my coding\\flutter_apps\\safari_chat_project\\safari_chat_backend\\venv\\lib\\site-packages (from datasets) (2.3.1)\n",
      "Requirement already satisfied: requests>=2.32.2 in c:\\users\\sharon\\desktop\\sharon\\my coding\\flutter_apps\\safari_chat_project\\safari_chat_backend\\venv\\lib\\site-packages (from datasets) (2.32.4)\n",
      "Requirement already satisfied: tqdm>=4.66.3 in c:\\users\\sharon\\desktop\\sharon\\my coding\\flutter_apps\\safari_chat_project\\safari_chat_backend\\venv\\lib\\site-packages (from datasets) (4.67.1)\n",
      "Requirement already satisfied: xxhash in c:\\users\\sharon\\desktop\\sharon\\my coding\\flutter_apps\\safari_chat_project\\safari_chat_backend\\venv\\lib\\site-packages (from datasets) (3.5.0)\n",
      "Requirement already satisfied: multiprocess<0.70.17 in c:\\users\\sharon\\desktop\\sharon\\my coding\\flutter_apps\\safari_chat_project\\safari_chat_backend\\venv\\lib\\site-packages (from datasets) (0.70.16)\n",
      "Requirement already satisfied: fsspec[http]<=2025.3.0,>=2023.1.0 in c:\\users\\sharon\\desktop\\sharon\\my coding\\flutter_apps\\safari_chat_project\\safari_chat_backend\\venv\\lib\\site-packages (from datasets) (2025.3.0)\n",
      "Requirement already satisfied: huggingface-hub>=0.24.0 in c:\\users\\sharon\\desktop\\sharon\\my coding\\flutter_apps\\safari_chat_project\\safari_chat_backend\\venv\\lib\\site-packages (from datasets) (0.33.5)\n",
      "Requirement already satisfied: packaging in c:\\users\\sharon\\desktop\\sharon\\my coding\\flutter_apps\\safari_chat_project\\safari_chat_backend\\venv\\lib\\site-packages (from datasets) (25.0)\n",
      "Requirement already satisfied: pyyaml>=5.1 in c:\\users\\sharon\\desktop\\sharon\\my coding\\flutter_apps\\safari_chat_project\\safari_chat_backend\\venv\\lib\\site-packages (from datasets) (6.0.2)\n",
      "Requirement already satisfied: aiohttp!=4.0.0a0,!=4.0.0a1 in c:\\users\\sharon\\desktop\\sharon\\my coding\\flutter_apps\\safari_chat_project\\safari_chat_backend\\venv\\lib\\site-packages (from fsspec[http]<=2025.3.0,>=2023.1.0->datasets) (3.12.14)\n",
      "Requirement already satisfied: typing-extensions>=3.7.4.3 in c:\\users\\sharon\\desktop\\sharon\\my coding\\flutter_apps\\safari_chat_project\\safari_chat_backend\\venv\\lib\\site-packages (from huggingface-hub>=0.24.0->datasets) (4.14.1)\n",
      "Requirement already satisfied: charset_normalizer<4,>=2 in c:\\users\\sharon\\desktop\\sharon\\my coding\\flutter_apps\\safari_chat_project\\safari_chat_backend\\venv\\lib\\site-packages (from requests>=2.32.2->datasets) (3.4.2)\n",
      "Requirement already satisfied: idna<4,>=2.5 in c:\\users\\sharon\\desktop\\sharon\\my coding\\flutter_apps\\safari_chat_project\\safari_chat_backend\\venv\\lib\\site-packages (from requests>=2.32.2->datasets) (3.10)\n",
      "Requirement already satisfied: urllib3<3,>=1.21.1 in c:\\users\\sharon\\desktop\\sharon\\my coding\\flutter_apps\\safari_chat_project\\safari_chat_backend\\venv\\lib\\site-packages (from requests>=2.32.2->datasets) (2.5.0)\n",
      "Requirement already satisfied: certifi>=2017.4.17 in c:\\users\\sharon\\desktop\\sharon\\my coding\\flutter_apps\\safari_chat_project\\safari_chat_backend\\venv\\lib\\site-packages (from requests>=2.32.2->datasets) (2025.7.14)\n",
      "Requirement already satisfied: colorama in c:\\users\\sharon\\desktop\\sharon\\my coding\\flutter_apps\\safari_chat_project\\safari_chat_backend\\venv\\lib\\site-packages (from tqdm>=4.66.3->datasets) (0.4.6)\n",
      "Requirement already satisfied: python-dateutil>=2.8.2 in c:\\users\\sharon\\desktop\\sharon\\my coding\\flutter_apps\\safari_chat_project\\safari_chat_backend\\venv\\lib\\site-packages (from pandas->datasets) (2.9.0.post0)\n",
      "Requirement already satisfied: pytz>=2020.1 in c:\\users\\sharon\\desktop\\sharon\\my coding\\flutter_apps\\safari_chat_project\\safari_chat_backend\\venv\\lib\\site-packages (from pandas->datasets) (2025.2)\n",
      "Requirement already satisfied: tzdata>=2022.7 in c:\\users\\sharon\\desktop\\sharon\\my coding\\flutter_apps\\safari_chat_project\\safari_chat_backend\\venv\\lib\\site-packages (from pandas->datasets) (2025.2)\n",
      "Requirement already satisfied: aiohappyeyeballs>=2.5.0 in c:\\users\\sharon\\desktop\\sharon\\my coding\\flutter_apps\\safari_chat_project\\safari_chat_backend\\venv\\lib\\site-packages (from aiohttp!=4.0.0a0,!=4.0.0a1->fsspec[http]<=2025.3.0,>=2023.1.0->datasets) (2.6.1)\n",
      "Requirement already satisfied: aiosignal>=1.4.0 in c:\\users\\sharon\\desktop\\sharon\\my coding\\flutter_apps\\safari_chat_project\\safari_chat_backend\\venv\\lib\\site-packages (from aiohttp!=4.0.0a0,!=4.0.0a1->fsspec[http]<=2025.3.0,>=2023.1.0->datasets) (1.4.0)\n",
      "Requirement already satisfied: attrs>=17.3.0 in c:\\users\\sharon\\desktop\\sharon\\my coding\\flutter_apps\\safari_chat_project\\safari_chat_backend\\venv\\lib\\site-packages (from aiohttp!=4.0.0a0,!=4.0.0a1->fsspec[http]<=2025.3.0,>=2023.1.0->datasets) (25.3.0)\n",
      "Requirement already satisfied: frozenlist>=1.1.1 in c:\\users\\sharon\\desktop\\sharon\\my coding\\flutter_apps\\safari_chat_project\\safari_chat_backend\\venv\\lib\\site-packages (from aiohttp!=4.0.0a0,!=4.0.0a1->fsspec[http]<=2025.3.0,>=2023.1.0->datasets) (1.7.0)\n",
      "Requirement already satisfied: multidict<7.0,>=4.5 in c:\\users\\sharon\\desktop\\sharon\\my coding\\flutter_apps\\safari_chat_project\\safari_chat_backend\\venv\\lib\\site-packages (from aiohttp!=4.0.0a0,!=4.0.0a1->fsspec[http]<=2025.3.0,>=2023.1.0->datasets) (6.6.3)\n",
      "Requirement already satisfied: propcache>=0.2.0 in c:\\users\\sharon\\desktop\\sharon\\my coding\\flutter_apps\\safari_chat_project\\safari_chat_backend\\venv\\lib\\site-packages (from aiohttp!=4.0.0a0,!=4.0.0a1->fsspec[http]<=2025.3.0,>=2023.1.0->datasets) (0.3.2)\n",
      "Requirement already satisfied: yarl<2.0,>=1.17.0 in c:\\users\\sharon\\desktop\\sharon\\my coding\\flutter_apps\\safari_chat_project\\safari_chat_backend\\venv\\lib\\site-packages (from aiohttp!=4.0.0a0,!=4.0.0a1->fsspec[http]<=2025.3.0,>=2023.1.0->datasets) (1.20.1)\n",
      "Requirement already satisfied: six>=1.5 in c:\\users\\sharon\\desktop\\sharon\\my coding\\flutter_apps\\safari_chat_project\\safari_chat_backend\\venv\\lib\\site-packages (from python-dateutil>=2.8.2->pandas->datasets) (1.17.0)\n",
      "Note: you may need to restart the kernel to use updated packages.\n"
     ]
    },
    {
     "name": "stderr",
     "output_type": "stream",
     "text": [
      "\n",
      "[notice] A new release of pip available: 22.3.1 -> 25.1.1\n",
      "[notice] To update, run: python.exe -m pip install --upgrade pip\n",
      "\n",
      "[notice] A new release of pip available: 22.3.1 -> 25.1.1\n",
      "[notice] To update, run: python.exe -m pip install --upgrade pip\n"
     ]
    },
    {
     "name": "stdout",
     "output_type": "stream",
     "text": [
      "Requirement already satisfied: transformers in c:\\users\\sharon\\desktop\\sharon\\my coding\\flutter_apps\\safari_chat_project\\safari_chat_backend\\venv\\lib\\site-packages (4.53.3)\n",
      "Requirement already satisfied: accelerate in c:\\users\\sharon\\desktop\\sharon\\my coding\\flutter_apps\\safari_chat_project\\safari_chat_backend\\venv\\lib\\site-packages (1.9.0)\n",
      "Requirement already satisfied: bitsandbytes in c:\\users\\sharon\\desktop\\sharon\\my coding\\flutter_apps\\safari_chat_project\\safari_chat_backend\\venv\\lib\\site-packages (0.46.1)\n",
      "Requirement already satisfied: filelock in c:\\users\\sharon\\desktop\\sharon\\my coding\\flutter_apps\\safari_chat_project\\safari_chat_backend\\venv\\lib\\site-packages (from transformers) (3.18.0)\n",
      "Requirement already satisfied: huggingface-hub<1.0,>=0.30.0 in c:\\users\\sharon\\desktop\\sharon\\my coding\\flutter_apps\\safari_chat_project\\safari_chat_backend\\venv\\lib\\site-packages (from transformers) (0.33.5)\n",
      "Requirement already satisfied: numpy>=1.17 in c:\\users\\sharon\\desktop\\sharon\\my coding\\flutter_apps\\safari_chat_project\\safari_chat_backend\\venv\\lib\\site-packages (from transformers) (2.3.2)\n",
      "Requirement already satisfied: packaging>=20.0 in c:\\users\\sharon\\desktop\\sharon\\my coding\\flutter_apps\\safari_chat_project\\safari_chat_backend\\venv\\lib\\site-packages (from transformers) (25.0)\n",
      "Requirement already satisfied: pyyaml>=5.1 in c:\\users\\sharon\\desktop\\sharon\\my coding\\flutter_apps\\safari_chat_project\\safari_chat_backend\\venv\\lib\\site-packages (from transformers) (6.0.2)\n",
      "Requirement already satisfied: regex!=2019.12.17 in c:\\users\\sharon\\desktop\\sharon\\my coding\\flutter_apps\\safari_chat_project\\safari_chat_backend\\venv\\lib\\site-packages (from transformers) (2024.11.6)\n",
      "Requirement already satisfied: requests in c:\\users\\sharon\\desktop\\sharon\\my coding\\flutter_apps\\safari_chat_project\\safari_chat_backend\\venv\\lib\\site-packages (from transformers) (2.32.4)\n",
      "Requirement already satisfied: tokenizers<0.22,>=0.21 in c:\\users\\sharon\\desktop\\sharon\\my coding\\flutter_apps\\safari_chat_project\\safari_chat_backend\\venv\\lib\\site-packages (from transformers) (0.21.2)\n",
      "Requirement already satisfied: safetensors>=0.4.3 in c:\\users\\sharon\\desktop\\sharon\\my coding\\flutter_apps\\safari_chat_project\\safari_chat_backend\\venv\\lib\\site-packages (from transformers) (0.5.3)\n",
      "Requirement already satisfied: tqdm>=4.27 in c:\\users\\sharon\\desktop\\sharon\\my coding\\flutter_apps\\safari_chat_project\\safari_chat_backend\\venv\\lib\\site-packages (from transformers) (4.67.1)\n",
      "Requirement already satisfied: psutil in c:\\users\\sharon\\desktop\\sharon\\my coding\\flutter_apps\\safari_chat_project\\safari_chat_backend\\venv\\lib\\site-packages (from accelerate) (7.0.0)\n",
      "Requirement already satisfied: torch>=2.0.0 in c:\\users\\sharon\\desktop\\sharon\\my coding\\flutter_apps\\safari_chat_project\\safari_chat_backend\\venv\\lib\\site-packages (from accelerate) (2.7.1)\n",
      "Requirement already satisfied: fsspec>=2023.5.0 in c:\\users\\sharon\\desktop\\sharon\\my coding\\flutter_apps\\safari_chat_project\\safari_chat_backend\\venv\\lib\\site-packages (from huggingface-hub<1.0,>=0.30.0->transformers) (2025.3.0)\n",
      "Requirement already satisfied: typing-extensions>=3.7.4.3 in c:\\users\\sharon\\desktop\\sharon\\my coding\\flutter_apps\\safari_chat_project\\safari_chat_backend\\venv\\lib\\site-packages (from huggingface-hub<1.0,>=0.30.0->transformers) (4.14.1)\n",
      "Requirement already satisfied: sympy>=1.13.3 in c:\\users\\sharon\\desktop\\sharon\\my coding\\flutter_apps\\safari_chat_project\\safari_chat_backend\\venv\\lib\\site-packages (from torch>=2.0.0->accelerate) (1.14.0)\n",
      "Requirement already satisfied: networkx in c:\\users\\sharon\\desktop\\sharon\\my coding\\flutter_apps\\safari_chat_project\\safari_chat_backend\\venv\\lib\\site-packages (from torch>=2.0.0->accelerate) (3.5)\n",
      "Requirement already satisfied: jinja2 in c:\\users\\sharon\\desktop\\sharon\\my coding\\flutter_apps\\safari_chat_project\\safari_chat_backend\\venv\\lib\\site-packages (from torch>=2.0.0->accelerate) (3.1.6)\n",
      "Requirement already satisfied: colorama in c:\\users\\sharon\\desktop\\sharon\\my coding\\flutter_apps\\safari_chat_project\\safari_chat_backend\\venv\\lib\\site-packages (from tqdm>=4.27->transformers) (0.4.6)\n",
      "Requirement already satisfied: charset_normalizer<4,>=2 in c:\\users\\sharon\\desktop\\sharon\\my coding\\flutter_apps\\safari_chat_project\\safari_chat_backend\\venv\\lib\\site-packages (from requests->transformers) (3.4.2)\n",
      "Requirement already satisfied: idna<4,>=2.5 in c:\\users\\sharon\\desktop\\sharon\\my coding\\flutter_apps\\safari_chat_project\\safari_chat_backend\\venv\\lib\\site-packages (from requests->transformers) (3.10)\n",
      "Requirement already satisfied: urllib3<3,>=1.21.1 in c:\\users\\sharon\\desktop\\sharon\\my coding\\flutter_apps\\safari_chat_project\\safari_chat_backend\\venv\\lib\\site-packages (from requests->transformers) (2.5.0)\n",
      "Requirement already satisfied: certifi>=2017.4.17 in c:\\users\\sharon\\desktop\\sharon\\my coding\\flutter_apps\\safari_chat_project\\safari_chat_backend\\venv\\lib\\site-packages (from requests->transformers) (2025.7.14)\n",
      "Requirement already satisfied: mpmath<1.4,>=1.1.0 in c:\\users\\sharon\\desktop\\sharon\\my coding\\flutter_apps\\safari_chat_project\\safari_chat_backend\\venv\\lib\\site-packages (from sympy>=1.13.3->torch>=2.0.0->accelerate) (1.3.0)\n",
      "Requirement already satisfied: MarkupSafe>=2.0 in c:\\users\\sharon\\desktop\\sharon\\my coding\\flutter_apps\\safari_chat_project\\safari_chat_backend\\venv\\lib\\site-packages (from jinja2->torch>=2.0.0->accelerate) (3.0.2)\n",
      "Note: you may need to restart the kernel to use updated packages.\n"
     ]
    },
    {
     "name": "stderr",
     "output_type": "stream",
     "text": [
      "c:\\Users\\Sharon\\Desktop\\Sharon\\My coding\\flutter_apps\\safari_chat_project\\safari_chat_backend\\venv\\Lib\\site-packages\\tqdm\\auto.py:21: TqdmWarning: IProgress not found. Please update jupyter and ipywidgets. See https://ipywidgets.readthedocs.io/en/stable/user_install.html\n",
      "  from .autonotebook import tqdm as notebook_tqdm\n"
     ]
    },
    {
     "name": "stdout",
     "output_type": "stream",
     "text": [
      "4.53.3\n"
     ]
    }
   ],
   "source": [
    "%pip install datasets\n",
    "%pip install transformers accelerate bitsandbytes\n",
    "\n",
    "import json\n",
    "from datasets import Dataset\n",
    "import transformers\n",
    "print(transformers.__version__)\n",
    "\n",
    "\n",
    "# Load your kenya_facts.json file\n",
    "with open(\"kenya_facts.json\", \"r\") as f:\n",
    "    data = json.load(f)\n",
    "\n",
    "# Convert to HuggingFace Dataset\n",
    "dataset = Dataset.from_list(data)\n",
    "dataset = dataset.train_test_split(test_size=0.1)\n"
   ]
  },
  {
   "cell_type": "code",
   "execution_count": 11,
   "id": "918e450c",
   "metadata": {},
   "outputs": [],
   "source": [
    "from transformers import AutoModelForCausalLM, AutoTokenizer, pipeline\n",
    "import torch\n",
    "\n",
    "model_id = \"TinyLlama/TinyLlama-1.1B-Chat-v1.0\"\n",
    "\n",
    "tokenizer = AutoTokenizer.from_pretrained(model_id)\n",
    "model = AutoModelForCausalLM.from_pretrained(model_id)\n",
    "\n"
   ]
  },
  {
   "cell_type": "code",
   "execution_count": 12,
   "id": "5b999c42",
   "metadata": {},
   "outputs": [
    {
     "name": "stderr",
     "output_type": "stream",
     "text": [
      "Map: 100%|██████████| 9/9 [00:00<00:00, 16.75 examples/s]\n",
      "Map: 100%|██████████| 2/2 [00:00<00:00, 84.21 examples/s]\n"
     ]
    }
   ],
   "source": [
    "def format_instruction(example):\n",
    "    prompt = f\"### Instruction:\\n{example['instruction']}\\n\\n### Response:\\n{example['output']}\"\n",
    "    return tokenizer(prompt, truncation=True, padding=\"max_length\", max_length=512)\n",
    "\n",
    "tokenized_dataset = dataset.map(format_instruction)\n"
   ]
  },
  {
   "cell_type": "code",
   "execution_count": 13,
   "id": "9f1cd469",
   "metadata": {},
   "outputs": [
    {
     "name": "stderr",
     "output_type": "stream",
     "text": [
      "\n",
      "[notice] A new release of pip available: 22.3.1 -> 25.1.1\n",
      "[notice] To update, run: python.exe -m pip install --upgrade pip\n"
     ]
    },
    {
     "name": "stdout",
     "output_type": "stream",
     "text": [
      "Requirement already satisfied: peft in c:\\users\\sharon\\desktop\\sharon\\my coding\\flutter_apps\\safari_chat_project\\safari_chat_backend\\venv\\lib\\site-packages (0.16.0)\n",
      "Requirement already satisfied: trl in c:\\users\\sharon\\desktop\\sharon\\my coding\\flutter_apps\\safari_chat_project\\safari_chat_backend\\venv\\lib\\site-packages (0.19.1)\n",
      "Requirement already satisfied: numpy>=1.17 in c:\\users\\sharon\\desktop\\sharon\\my coding\\flutter_apps\\safari_chat_project\\safari_chat_backend\\venv\\lib\\site-packages (from peft) (2.3.2)\n",
      "Requirement already satisfied: packaging>=20.0 in c:\\users\\sharon\\desktop\\sharon\\my coding\\flutter_apps\\safari_chat_project\\safari_chat_backend\\venv\\lib\\site-packages (from peft) (25.0)\n",
      "Requirement already satisfied: psutil in c:\\users\\sharon\\desktop\\sharon\\my coding\\flutter_apps\\safari_chat_project\\safari_chat_backend\\venv\\lib\\site-packages (from peft) (7.0.0)\n",
      "Requirement already satisfied: pyyaml in c:\\users\\sharon\\desktop\\sharon\\my coding\\flutter_apps\\safari_chat_project\\safari_chat_backend\\venv\\lib\\site-packages (from peft) (6.0.2)\n",
      "Requirement already satisfied: torch>=1.13.0 in c:\\users\\sharon\\desktop\\sharon\\my coding\\flutter_apps\\safari_chat_project\\safari_chat_backend\\venv\\lib\\site-packages (from peft) (2.7.1)\n",
      "Requirement already satisfied: transformers in c:\\users\\sharon\\desktop\\sharon\\my coding\\flutter_apps\\safari_chat_project\\safari_chat_backend\\venv\\lib\\site-packages (from peft) (4.53.3)\n",
      "Requirement already satisfied: tqdm in c:\\users\\sharon\\desktop\\sharon\\my coding\\flutter_apps\\safari_chat_project\\safari_chat_backend\\venv\\lib\\site-packages (from peft) (4.67.1)\n",
      "Requirement already satisfied: accelerate>=0.21.0 in c:\\users\\sharon\\desktop\\sharon\\my coding\\flutter_apps\\safari_chat_project\\safari_chat_backend\\venv\\lib\\site-packages (from peft) (1.9.0)\n",
      "Requirement already satisfied: safetensors in c:\\users\\sharon\\desktop\\sharon\\my coding\\flutter_apps\\safari_chat_project\\safari_chat_backend\\venv\\lib\\site-packages (from peft) (0.5.3)\n",
      "Requirement already satisfied: huggingface_hub>=0.25.0 in c:\\users\\sharon\\desktop\\sharon\\my coding\\flutter_apps\\safari_chat_project\\safari_chat_backend\\venv\\lib\\site-packages (from peft) (0.33.5)\n",
      "Requirement already satisfied: datasets>=3.0.0 in c:\\users\\sharon\\desktop\\sharon\\my coding\\flutter_apps\\safari_chat_project\\safari_chat_backend\\venv\\lib\\site-packages (from trl) (4.0.0)\n",
      "Requirement already satisfied: filelock in c:\\users\\sharon\\desktop\\sharon\\my coding\\flutter_apps\\safari_chat_project\\safari_chat_backend\\venv\\lib\\site-packages (from datasets>=3.0.0->trl) (3.18.0)\n",
      "Requirement already satisfied: pyarrow>=15.0.0 in c:\\users\\sharon\\desktop\\sharon\\my coding\\flutter_apps\\safari_chat_project\\safari_chat_backend\\venv\\lib\\site-packages (from datasets>=3.0.0->trl) (21.0.0)\n",
      "Requirement already satisfied: dill<0.3.9,>=0.3.0 in c:\\users\\sharon\\desktop\\sharon\\my coding\\flutter_apps\\safari_chat_project\\safari_chat_backend\\venv\\lib\\site-packages (from datasets>=3.0.0->trl) (0.3.8)\n",
      "Requirement already satisfied: pandas in c:\\users\\sharon\\desktop\\sharon\\my coding\\flutter_apps\\safari_chat_project\\safari_chat_backend\\venv\\lib\\site-packages (from datasets>=3.0.0->trl) (2.3.1)\n",
      "Requirement already satisfied: requests>=2.32.2 in c:\\users\\sharon\\desktop\\sharon\\my coding\\flutter_apps\\safari_chat_project\\safari_chat_backend\\venv\\lib\\site-packages (from datasets>=3.0.0->trl) (2.32.4)\n",
      "Requirement already satisfied: xxhash in c:\\users\\sharon\\desktop\\sharon\\my coding\\flutter_apps\\safari_chat_project\\safari_chat_backend\\venv\\lib\\site-packages (from datasets>=3.0.0->trl) (3.5.0)\n",
      "Requirement already satisfied: multiprocess<0.70.17 in c:\\users\\sharon\\desktop\\sharon\\my coding\\flutter_apps\\safari_chat_project\\safari_chat_backend\\venv\\lib\\site-packages (from datasets>=3.0.0->trl) (0.70.16)\n",
      "Requirement already satisfied: fsspec[http]<=2025.3.0,>=2023.1.0 in c:\\users\\sharon\\desktop\\sharon\\my coding\\flutter_apps\\safari_chat_project\\safari_chat_backend\\venv\\lib\\site-packages (from datasets>=3.0.0->trl) (2025.3.0)\n",
      "Requirement already satisfied: typing-extensions>=3.7.4.3 in c:\\users\\sharon\\desktop\\sharon\\my coding\\flutter_apps\\safari_chat_project\\safari_chat_backend\\venv\\lib\\site-packages (from huggingface_hub>=0.25.0->peft) (4.14.1)\n",
      "Requirement already satisfied: sympy>=1.13.3 in c:\\users\\sharon\\desktop\\sharon\\my coding\\flutter_apps\\safari_chat_project\\safari_chat_backend\\venv\\lib\\site-packages (from torch>=1.13.0->peft) (1.14.0)\n",
      "Requirement already satisfied: networkx in c:\\users\\sharon\\desktop\\sharon\\my coding\\flutter_apps\\safari_chat_project\\safari_chat_backend\\venv\\lib\\site-packages (from torch>=1.13.0->peft) (3.5)\n",
      "Requirement already satisfied: jinja2 in c:\\users\\sharon\\desktop\\sharon\\my coding\\flutter_apps\\safari_chat_project\\safari_chat_backend\\venv\\lib\\site-packages (from torch>=1.13.0->peft) (3.1.6)\n",
      "Requirement already satisfied: colorama in c:\\users\\sharon\\desktop\\sharon\\my coding\\flutter_apps\\safari_chat_project\\safari_chat_backend\\venv\\lib\\site-packages (from tqdm->peft) (0.4.6)\n",
      "Requirement already satisfied: regex!=2019.12.17 in c:\\users\\sharon\\desktop\\sharon\\my coding\\flutter_apps\\safari_chat_project\\safari_chat_backend\\venv\\lib\\site-packages (from transformers->peft) (2024.11.6)\n",
      "Requirement already satisfied: tokenizers<0.22,>=0.21 in c:\\users\\sharon\\desktop\\sharon\\my coding\\flutter_apps\\safari_chat_project\\safari_chat_backend\\venv\\lib\\site-packages (from transformers->peft) (0.21.2)\n",
      "Requirement already satisfied: aiohttp!=4.0.0a0,!=4.0.0a1 in c:\\users\\sharon\\desktop\\sharon\\my coding\\flutter_apps\\safari_chat_project\\safari_chat_backend\\venv\\lib\\site-packages (from fsspec[http]<=2025.3.0,>=2023.1.0->datasets>=3.0.0->trl) (3.12.14)\n",
      "Requirement already satisfied: charset_normalizer<4,>=2 in c:\\users\\sharon\\desktop\\sharon\\my coding\\flutter_apps\\safari_chat_project\\safari_chat_backend\\venv\\lib\\site-packages (from requests>=2.32.2->datasets>=3.0.0->trl) (3.4.2)\n",
      "Requirement already satisfied: idna<4,>=2.5 in c:\\users\\sharon\\desktop\\sharon\\my coding\\flutter_apps\\safari_chat_project\\safari_chat_backend\\venv\\lib\\site-packages (from requests>=2.32.2->datasets>=3.0.0->trl) (3.10)\n",
      "Requirement already satisfied: urllib3<3,>=1.21.1 in c:\\users\\sharon\\desktop\\sharon\\my coding\\flutter_apps\\safari_chat_project\\safari_chat_backend\\venv\\lib\\site-packages (from requests>=2.32.2->datasets>=3.0.0->trl) (2.5.0)\n",
      "Requirement already satisfied: certifi>=2017.4.17 in c:\\users\\sharon\\desktop\\sharon\\my coding\\flutter_apps\\safari_chat_project\\safari_chat_backend\\venv\\lib\\site-packages (from requests>=2.32.2->datasets>=3.0.0->trl) (2025.7.14)\n",
      "Requirement already satisfied: mpmath<1.4,>=1.1.0 in c:\\users\\sharon\\desktop\\sharon\\my coding\\flutter_apps\\safari_chat_project\\safari_chat_backend\\venv\\lib\\site-packages (from sympy>=1.13.3->torch>=1.13.0->peft) (1.3.0)\n",
      "Requirement already satisfied: MarkupSafe>=2.0 in c:\\users\\sharon\\desktop\\sharon\\my coding\\flutter_apps\\safari_chat_project\\safari_chat_backend\\venv\\lib\\site-packages (from jinja2->torch>=1.13.0->peft) (3.0.2)\n",
      "Requirement already satisfied: python-dateutil>=2.8.2 in c:\\users\\sharon\\desktop\\sharon\\my coding\\flutter_apps\\safari_chat_project\\safari_chat_backend\\venv\\lib\\site-packages (from pandas->datasets>=3.0.0->trl) (2.9.0.post0)\n",
      "Requirement already satisfied: pytz>=2020.1 in c:\\users\\sharon\\desktop\\sharon\\my coding\\flutter_apps\\safari_chat_project\\safari_chat_backend\\venv\\lib\\site-packages (from pandas->datasets>=3.0.0->trl) (2025.2)\n",
      "Requirement already satisfied: tzdata>=2022.7 in c:\\users\\sharon\\desktop\\sharon\\my coding\\flutter_apps\\safari_chat_project\\safari_chat_backend\\venv\\lib\\site-packages (from pandas->datasets>=3.0.0->trl) (2025.2)\n",
      "Requirement already satisfied: aiohappyeyeballs>=2.5.0 in c:\\users\\sharon\\desktop\\sharon\\my coding\\flutter_apps\\safari_chat_project\\safari_chat_backend\\venv\\lib\\site-packages (from aiohttp!=4.0.0a0,!=4.0.0a1->fsspec[http]<=2025.3.0,>=2023.1.0->datasets>=3.0.0->trl) (2.6.1)\n",
      "Requirement already satisfied: aiosignal>=1.4.0 in c:\\users\\sharon\\desktop\\sharon\\my coding\\flutter_apps\\safari_chat_project\\safari_chat_backend\\venv\\lib\\site-packages (from aiohttp!=4.0.0a0,!=4.0.0a1->fsspec[http]<=2025.3.0,>=2023.1.0->datasets>=3.0.0->trl) (1.4.0)\n",
      "Requirement already satisfied: attrs>=17.3.0 in c:\\users\\sharon\\desktop\\sharon\\my coding\\flutter_apps\\safari_chat_project\\safari_chat_backend\\venv\\lib\\site-packages (from aiohttp!=4.0.0a0,!=4.0.0a1->fsspec[http]<=2025.3.0,>=2023.1.0->datasets>=3.0.0->trl) (25.3.0)\n",
      "Requirement already satisfied: frozenlist>=1.1.1 in c:\\users\\sharon\\desktop\\sharon\\my coding\\flutter_apps\\safari_chat_project\\safari_chat_backend\\venv\\lib\\site-packages (from aiohttp!=4.0.0a0,!=4.0.0a1->fsspec[http]<=2025.3.0,>=2023.1.0->datasets>=3.0.0->trl) (1.7.0)\n",
      "Requirement already satisfied: multidict<7.0,>=4.5 in c:\\users\\sharon\\desktop\\sharon\\my coding\\flutter_apps\\safari_chat_project\\safari_chat_backend\\venv\\lib\\site-packages (from aiohttp!=4.0.0a0,!=4.0.0a1->fsspec[http]<=2025.3.0,>=2023.1.0->datasets>=3.0.0->trl) (6.6.3)\n",
      "Requirement already satisfied: propcache>=0.2.0 in c:\\users\\sharon\\desktop\\sharon\\my coding\\flutter_apps\\safari_chat_project\\safari_chat_backend\\venv\\lib\\site-packages (from aiohttp!=4.0.0a0,!=4.0.0a1->fsspec[http]<=2025.3.0,>=2023.1.0->datasets>=3.0.0->trl) (0.3.2)\n",
      "Requirement already satisfied: yarl<2.0,>=1.17.0 in c:\\users\\sharon\\desktop\\sharon\\my coding\\flutter_apps\\safari_chat_project\\safari_chat_backend\\venv\\lib\\site-packages (from aiohttp!=4.0.0a0,!=4.0.0a1->fsspec[http]<=2025.3.0,>=2023.1.0->datasets>=3.0.0->trl) (1.20.1)\n",
      "Requirement already satisfied: six>=1.5 in c:\\users\\sharon\\desktop\\sharon\\my coding\\flutter_apps\\safari_chat_project\\safari_chat_backend\\venv\\lib\\site-packages (from python-dateutil>=2.8.2->pandas->datasets>=3.0.0->trl) (1.17.0)\n",
      "Note: you may need to restart the kernel to use updated packages.\n"
     ]
    },
    {
     "name": "stderr",
     "output_type": "stream",
     "text": [
      "No label_names provided for model class `PeftModelForCausalLM`. Since `PeftModel` hides base models input arguments, if label_names is not given, label_names can't be set automatically within `Trainer`. Note that empty label_names list will be used instead.\n"
     ]
    }
   ],
   "source": [
    "%pip install peft trl\n",
    "\n",
    "\n",
    "from peft import get_peft_model, LoraConfig, TaskType\n",
    "from transformers import Trainer, TrainingArguments, DataCollatorForLanguageModeling\n",
    "\n",
    "\n",
    "# LoRA config\n",
    "# LoRA config\n",
    "peft_config = LoraConfig(\n",
    "    r=8,\n",
    "    lora_alpha=32,\n",
    "    target_modules=[\"q_proj\", \"v_proj\"],  # for LLaMA or similar\n",
    "    lora_dropout=0.05,\n",
    "    bias=\"none\",\n",
    "    task_type=TaskType.CAUSAL_LM\n",
    ")\n",
    "\n",
    "model = get_peft_model(model, peft_config)  \n",
    "\n",
    "# Training args\n",
    "training_args = TrainingArguments(\n",
    "    output_dir=\"./llama-kenyan-facts\",\n",
    "    per_device_train_batch_size=1,\n",
    "    per_device_eval_batch_size=1,\n",
    "    logging_dir=\"./logs\",\n",
    "    save_strategy=\"no\",\n",
    "    num_train_epochs=1,\n",
    "    warmup_steps=10,\n",
    "    logging_steps=10,\n",
    "    fp16=False, \n",
    "    save_total_limit=2,\n",
    "    report_to=\"none\"\n",
    ")\n",
    "\n",
    "data_collator = DataCollatorForLanguageModeling(\n",
    "    tokenizer=tokenizer, mlm=False\n",
    ")\n",
    "\n",
    "trainer = Trainer(\n",
    "    model=model,\n",
    "    args=training_args,\n",
    "    train_dataset=tokenized_dataset[\"train\"],\n",
    "    eval_dataset=tokenized_dataset[\"test\"],\n",
    "    data_collator=data_collator,\n",
    ")"
   ]
  },
  {
   "cell_type": "code",
   "execution_count": 14,
   "id": "610cae51",
   "metadata": {},
   "outputs": [
    {
     "name": "stderr",
     "output_type": "stream",
     "text": [
      "c:\\Users\\Sharon\\Desktop\\Sharon\\My coding\\flutter_apps\\safari_chat_project\\safari_chat_backend\\venv\\Lib\\site-packages\\torch\\utils\\data\\dataloader.py:665: UserWarning: 'pin_memory' argument is set as true but no accelerator is found, then device pinned memory won't be used.\n",
      "  warnings.warn(warn_msg)\n"
     ]
    },
    {
     "data": {
      "text/html": [
       "\n",
       "    <div>\n",
       "      \n",
       "      <progress value='9' max='9' style='width:300px; height:20px; vertical-align: middle;'></progress>\n",
       "      [9/9 07:29, Epoch 1/1]\n",
       "    </div>\n",
       "    <table border=\"1\" class=\"dataframe\">\n",
       "  <thead>\n",
       " <tr style=\"text-align: left;\">\n",
       "      <th>Step</th>\n",
       "      <th>Training Loss</th>\n",
       "    </tr>\n",
       "  </thead>\n",
       "  <tbody>\n",
       "  </tbody>\n",
       "</table><p>"
      ],
      "text/plain": [
       "<IPython.core.display.HTML object>"
      ]
     },
     "metadata": {},
     "output_type": "display_data"
    },
    {
     "data": {
      "text/plain": [
       "TrainOutput(global_step=9, training_loss=1.9561203850640192, metrics={'train_runtime': 539.7901, 'train_samples_per_second': 0.017, 'train_steps_per_second': 0.017, 'total_flos': 28633341100032.0, 'train_loss': 1.9561203850640192, 'epoch': 1.0})"
      ]
     },
     "execution_count": 14,
     "metadata": {},
     "output_type": "execute_result"
    }
   ],
   "source": [
    "trainer.train()\n"
   ]
  }
 ],
 "metadata": {
  "kernelspec": {
   "display_name": "venv (3.11.1)",
   "language": "python",
   "name": "python3"
  },
  "language_info": {
   "codemirror_mode": {
    "name": "ipython",
    "version": 3
   },
   "file_extension": ".py",
   "mimetype": "text/x-python",
   "name": "python",
   "nbconvert_exporter": "python",
   "pygments_lexer": "ipython3",
   "version": "3.11.1"
  }
 },
 "nbformat": 4,
 "nbformat_minor": 5
}
